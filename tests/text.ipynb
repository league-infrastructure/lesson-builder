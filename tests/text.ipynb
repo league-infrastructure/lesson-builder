{
 "cells": [
  {
   "cell_type": "code",
   "execution_count": 2,
   "id": "964ef02b-2e90-441d-b580-ed2e6af9fbf9",
   "metadata": {},
   "outputs": [],
   "source": [
    "%load_ext autoreload                                                                          \n",
    "%autoreload 2 \n",
    "\n",
    "    "
   ]
  },
  {
   "cell_type": "code",
   "execution_count": 20,
   "id": "c7fc4a8c-a493-40b6-8263-0fc50acaa693",
   "metadata": {},
   "outputs": [],
   "source": [
    "from pathlib import Path"
   ]
  },
  {
   "cell_type": "code",
   "execution_count": 4,
   "id": "76fc59c5-23ac-4bf3-96fe-c0b703a9cdee",
   "metadata": {},
   "outputs": [],
   "source": [
    "from lesson_builder import * "
   ]
  },
  {
   "cell_type": "code",
   "execution_count": 21,
   "id": "363328c0-2144-4f72-bf7b-453262a068a6",
   "metadata": {},
   "outputs": [],
   "source": [
    "lesdir = '/Users/eric/proj/league-projects/HourOfMicrobit/lessons'\n",
    "dd= '/Users/eric/proj/league-projects/HourOfMicrobit/docs'\n",
    "root = Path(lesdir).parent"
   ]
  },
  {
   "cell_type": "code",
   "execution_count": 14,
   "id": "869840e0-a6dd-4cb9-ab54-3c212e6cf6f5",
   "metadata": {},
   "outputs": [],
   "source": []
  },
  {
   "cell_type": "code",
   "execution_count": 45,
   "id": "36c6f052-97d6-4548-98f7-9605fd89e8b3",
   "metadata": {},
   "outputs": [
    {
     "name": "stdout",
     "output_type": "stream",
     "text": [
      "------\n",
      "Lesson: Meet Micro:bit meet_microbit dir=/Users/eric/proj/league-projects/HourOfMicrobit/lessons/meet_microbit\n",
      "     lessons/meet_microbit/index.md\n",
      "Lesson: Setup get_started dir=/Users/eric/proj/league-projects/HourOfMicrobit/lessons/get_started\n",
      "     lessons/get_started/index.md\n"
     ]
    }
   ],
   "source": [
    "lp = LessonPlan(lesdir, dd)\n",
    "\n",
    "\n",
    "print('------')\n",
    "for lesson in lp.lessons:\n",
    "    print(lesson)\n",
    "    print(\"    \", lesson.lesson_text_path.relative_to(root))"
   ]
  },
  {
   "cell_type": "code",
   "execution_count": 81,
   "id": "5683ec1e-d42e-415a-9e4b-4c62c74c7fe2",
   "metadata": {},
   "outputs": [
    {
     "name": "stdout",
     "output_type": "stream",
     "text": [
      "lessons/index.md -> docs/src/index.md\n",
      "lessons/about.md -> docs/src/about.md\n",
      "lessons/intro.md -> docs/src/intro.md\n",
      "lessons/assets/flag.png -> docs/src/.vuepress/public/assets/flag.png\n",
      "lessons/assets/word-logo.png -> docs/src/.vuepress/public/assets/word-logo.png\n",
      "lessons/meet_microbit/index.md -> docs/src/lessons/meet_microbit/index.md\n",
      "lessons/assets/flag.png -> docs/src/lessons/meet_microbit/flag.png\n",
      "lessons/meet_microbit/what_is_microbit/python_program.py -> docs/src/lessons/meet_microbit/what_is_microbit/python_program.py\n",
      "lessons/meet_microbit/what_is_microbit/goal.png -> docs/src/lessons/meet_microbit/what_is_microbit/goal.png\n",
      "lessons/meet_microbit/what_is_microbit/python_program.py -> docs/src/lessons/meet_microbit/what_is_microbit/python_program.py\n",
      "<Render what_is_microbit> -> docs/src/lessons/meet_microbit/what_is_microbit/index.md\n",
      "lessons/get_started/index.md -> docs/src/lessons/get_started/index.md\n",
      "lessons/assets/flag.png -> docs/src/lessons/get_started/flag.png\n",
      "lessons/get_started/setup/python_program.py -> docs/src/lessons/get_started/setup/python_program.py\n",
      "lessons/get_started/setup/goal.png -> docs/src/lessons/get_started/setup/goal.png\n",
      "lessons/get_started/setup/python_program.py -> docs/src/lessons/get_started/setup/python_program.py\n",
      "<Render setup> -> docs/src/lessons/get_started/setup/index.md\n"
     ]
    }
   ],
   "source": [
    "for rr in lp.collect_writes():\n",
    "    print(rr.as_str(root))"
   ]
  },
  {
   "cell_type": "code",
   "execution_count": 73,
   "id": "263227ca-160f-417d-a6ee-2f8fe84f76b7",
   "metadata": {},
   "outputs": [
    {
     "name": "stdout",
     "output_type": "stream",
     "text": [
      "lessons/meet_microbit/index.md -> docs/src/lessons/meet_microbit/index.md\n",
      "lessons/assets/flag.png -> docs/src/lessons/meet_microbit/flag.png\n",
      "lessons/meet_microbit/what_is_microbit/python_program.py -> docs/src/lessons/meet_microbit/what_is_microbit/python_program.py\n",
      "<3768 bytes> -> docs/src/lessons/meet_microbit/what_is_microbit/index.md\n"
     ]
    }
   ],
   "source": [
    "\n",
    "for rr in list(lp.lessons)[0].collect_writes():\n",
    "    print(rr.as_str(root))\n"
   ]
  },
  {
   "cell_type": "code",
   "execution_count": 62,
   "id": "a494f7af-cbf8-4f44-a3b7-1f7d69796d14",
   "metadata": {},
   "outputs": [
    {
     "data": {
      "text/plain": [
       "[{'path': '/intro', 'title': 'Introduction'},\n",
       " {'collapsable': False,\n",
       "  'title': 'Meet Micro:bit',\n",
       "  'path': '/lessons/meet_microbit/',\n",
       "  'children': [{'path': '/lessons/meet_microbit/what_is_microbit/',\n",
       "    'title': 'Shapes and Colors'}]},\n",
       " {'collapsable': False,\n",
       "  'title': 'Setup',\n",
       "  'path': '/lessons/get_started/',\n",
       "  'children': [{'path': '/lessons/get_started/setup/',\n",
       "    'title': 'Shapes and Colors'}]}]"
      ]
     },
     "execution_count": 62,
     "metadata": {},
     "output_type": "execute_result"
    }
   ],
   "source": [
    "lp.make_sidebar()"
   ]
  },
  {
   "cell_type": "code",
   "execution_count": null,
   "id": "6dd63427-90c1-432d-8a67-bfb584d6692a",
   "metadata": {},
   "outputs": [],
   "source": []
  }
 ],
 "metadata": {
  "kernelspec": {
   "display_name": "Python 3 (ipykernel)",
   "language": "python",
   "name": "python3"
  },
  "language_info": {
   "codemirror_mode": {
    "name": "ipython",
    "version": 3
   },
   "file_extension": ".py",
   "mimetype": "text/x-python",
   "name": "python",
   "nbconvert_exporter": "python",
   "pygments_lexer": "ipython3",
   "version": "3.11.7"
  }
 },
 "nbformat": 4,
 "nbformat_minor": 5
}
